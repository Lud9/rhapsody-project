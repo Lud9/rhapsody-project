{
  "nbformat": 4,
  "nbformat_minor": 0,
  "metadata": {
    "colab": {
      "provenance": []
    },
    "kernelspec": {
      "name": "python3",
      "display_name": "Python 3"
    },
    "language_info": {
      "name": "python"
    }
  },
  "cells": [
    {
      "cell_type": "markdown",
      "source": [
        "    Note:\n",
        "    - Change the folder_paths to run the code in your environment"
      ],
      "metadata": {
        "id": "2EYkfzVEGxs2"
      }
    },
    {
      "cell_type": "markdown",
      "source": [
        "## Merge Data"
      ],
      "metadata": {
        "id": "rGo16WamFWM6"
      }
    },
    {
      "cell_type": "code",
      "execution_count": null,
      "metadata": {
        "id": "v6nOeRdiCBHf"
      },
      "outputs": [],
      "source": [
        "from sklearn.model_selection import train_test_split\n",
        "import pandas as pd\n",
        "import os\n",
        "import re\n",
        "from typing import Dict, Tuple\n",
        "import random\n",
        "import numpy as np"
      ]
    },
    {
      "cell_type": "code",
      "source": [
        "folder_paths = [\n",
        "    \"path1\",\n",
        "    \"path2\"\n",
        "]\n",
        "\n",
        "# Get all CSV files from  folders\n",
        "csv_files = [(folder, file) for folder in folder_paths for file in os.listdir(folder)\n",
        "              if file.endswith(\".csv\")]\n",
        "\n",
        "# Read and process all CSV files\n",
        "df_list = [pd.read_csv(os.path.join(folder, file))\n",
        "            # .drop(columns=[\"tupleID\",\"frequency\"], errors=\"ignore\")\n",
        "            [['userID', 'resourceID', 'operation']]\n",
        "            for folder, file in csv_files]"
      ],
      "metadata": {
        "id": "ixvBTz6L3TVi"
      },
      "execution_count": null,
      "outputs": []
    },
    {
      "cell_type": "code",
      "source": [
        "data_fr = pd.concat(df_list, ignore_index=True)\n",
        "data_fr.drop_duplicates(inplace=True) #To introduce unseen data concept for universal cross validation"
      ],
      "metadata": {
        "id": "q0L9f_b1DAti"
      },
      "execution_count": null,
      "outputs": []
    },
    {
      "cell_type": "code",
      "source": [
        "# Display the first few rows\n",
        "print(\"Dataset size: \",len(data_fr))\n",
        "data_fr.head()"
      ],
      "metadata": {
        "colab": {
          "base_uri": "https://localhost:8080/",
          "height": 223
        },
        "id": "p4FDjU1tDDPi",
        "outputId": "04ffa3e6-5603-4e49-f373-eaf5996a8ad2"
      },
      "execution_count": null,
      "outputs": [
        {
          "output_type": "stream",
          "name": "stdout",
          "text": [
            "Dataset size:  6086\n"
          ]
        },
        {
          "output_type": "execute_result",
          "data": {
            "text/plain": [
              "       userID      resourceID    operation\n",
              "0  registrar2     csStu1trans         read\n",
              "1      eeFac1  ee101gradebook    readScore\n",
              "2      eeFac2  ee601gradebook    readScore\n",
              "3  registrar1     csStu1trans         read\n",
              "4      csFac1  cs101gradebook  changeScore"
            ],
            "text/html": [
              "\n",
              "  <div id=\"df-0b1229b8-3e2a-4475-b8fd-4fe8f6c4c6e0\" class=\"colab-df-container\">\n",
              "    <div>\n",
              "<style scoped>\n",
              "    .dataframe tbody tr th:only-of-type {\n",
              "        vertical-align: middle;\n",
              "    }\n",
              "\n",
              "    .dataframe tbody tr th {\n",
              "        vertical-align: top;\n",
              "    }\n",
              "\n",
              "    .dataframe thead th {\n",
              "        text-align: right;\n",
              "    }\n",
              "</style>\n",
              "<table border=\"1\" class=\"dataframe\">\n",
              "  <thead>\n",
              "    <tr style=\"text-align: right;\">\n",
              "      <th></th>\n",
              "      <th>userID</th>\n",
              "      <th>resourceID</th>\n",
              "      <th>operation</th>\n",
              "    </tr>\n",
              "  </thead>\n",
              "  <tbody>\n",
              "    <tr>\n",
              "      <th>0</th>\n",
              "      <td>registrar2</td>\n",
              "      <td>csStu1trans</td>\n",
              "      <td>read</td>\n",
              "    </tr>\n",
              "    <tr>\n",
              "      <th>1</th>\n",
              "      <td>eeFac1</td>\n",
              "      <td>ee101gradebook</td>\n",
              "      <td>readScore</td>\n",
              "    </tr>\n",
              "    <tr>\n",
              "      <th>2</th>\n",
              "      <td>eeFac2</td>\n",
              "      <td>ee601gradebook</td>\n",
              "      <td>readScore</td>\n",
              "    </tr>\n",
              "    <tr>\n",
              "      <th>3</th>\n",
              "      <td>registrar1</td>\n",
              "      <td>csStu1trans</td>\n",
              "      <td>read</td>\n",
              "    </tr>\n",
              "    <tr>\n",
              "      <th>4</th>\n",
              "      <td>csFac1</td>\n",
              "      <td>cs101gradebook</td>\n",
              "      <td>changeScore</td>\n",
              "    </tr>\n",
              "  </tbody>\n",
              "</table>\n",
              "</div>\n",
              "    <div class=\"colab-df-buttons\">\n",
              "\n",
              "  <div class=\"colab-df-container\">\n",
              "    <button class=\"colab-df-convert\" onclick=\"convertToInteractive('df-0b1229b8-3e2a-4475-b8fd-4fe8f6c4c6e0')\"\n",
              "            title=\"Convert this dataframe to an interactive table.\"\n",
              "            style=\"display:none;\">\n",
              "\n",
              "  <svg xmlns=\"http://www.w3.org/2000/svg\" height=\"24px\" viewBox=\"0 -960 960 960\">\n",
              "    <path d=\"M120-120v-720h720v720H120Zm60-500h600v-160H180v160Zm220 220h160v-160H400v160Zm0 220h160v-160H400v160ZM180-400h160v-160H180v160Zm440 0h160v-160H620v160ZM180-180h160v-160H180v160Zm440 0h160v-160H620v160Z\"/>\n",
              "  </svg>\n",
              "    </button>\n",
              "\n",
              "  <style>\n",
              "    .colab-df-container {\n",
              "      display:flex;\n",
              "      gap: 12px;\n",
              "    }\n",
              "\n",
              "    .colab-df-convert {\n",
              "      background-color: #E8F0FE;\n",
              "      border: none;\n",
              "      border-radius: 50%;\n",
              "      cursor: pointer;\n",
              "      display: none;\n",
              "      fill: #1967D2;\n",
              "      height: 32px;\n",
              "      padding: 0 0 0 0;\n",
              "      width: 32px;\n",
              "    }\n",
              "\n",
              "    .colab-df-convert:hover {\n",
              "      background-color: #E2EBFA;\n",
              "      box-shadow: 0px 1px 2px rgba(60, 64, 67, 0.3), 0px 1px 3px 1px rgba(60, 64, 67, 0.15);\n",
              "      fill: #174EA6;\n",
              "    }\n",
              "\n",
              "    .colab-df-buttons div {\n",
              "      margin-bottom: 4px;\n",
              "    }\n",
              "\n",
              "    [theme=dark] .colab-df-convert {\n",
              "      background-color: #3B4455;\n",
              "      fill: #D2E3FC;\n",
              "    }\n",
              "\n",
              "    [theme=dark] .colab-df-convert:hover {\n",
              "      background-color: #434B5C;\n",
              "      box-shadow: 0px 1px 3px 1px rgba(0, 0, 0, 0.15);\n",
              "      filter: drop-shadow(0px 1px 2px rgba(0, 0, 0, 0.3));\n",
              "      fill: #FFFFFF;\n",
              "    }\n",
              "  </style>\n",
              "\n",
              "    <script>\n",
              "      const buttonEl =\n",
              "        document.querySelector('#df-0b1229b8-3e2a-4475-b8fd-4fe8f6c4c6e0 button.colab-df-convert');\n",
              "      buttonEl.style.display =\n",
              "        google.colab.kernel.accessAllowed ? 'block' : 'none';\n",
              "\n",
              "      async function convertToInteractive(key) {\n",
              "        const element = document.querySelector('#df-0b1229b8-3e2a-4475-b8fd-4fe8f6c4c6e0');\n",
              "        const dataTable =\n",
              "          await google.colab.kernel.invokeFunction('convertToInteractive',\n",
              "                                                    [key], {});\n",
              "        if (!dataTable) return;\n",
              "\n",
              "        const docLinkHtml = 'Like what you see? Visit the ' +\n",
              "          '<a target=\"_blank\" href=https://colab.research.google.com/notebooks/data_table.ipynb>data table notebook</a>'\n",
              "          + ' to learn more about interactive tables.';\n",
              "        element.innerHTML = '';\n",
              "        dataTable['output_type'] = 'display_data';\n",
              "        await google.colab.output.renderOutput(dataTable, element);\n",
              "        const docLink = document.createElement('div');\n",
              "        docLink.innerHTML = docLinkHtml;\n",
              "        element.appendChild(docLink);\n",
              "      }\n",
              "    </script>\n",
              "  </div>\n",
              "\n",
              "\n",
              "    <div id=\"df-2dc0c16c-5377-4790-81b4-86f980361d2a\">\n",
              "      <button class=\"colab-df-quickchart\" onclick=\"quickchart('df-2dc0c16c-5377-4790-81b4-86f980361d2a')\"\n",
              "                title=\"Suggest charts\"\n",
              "                style=\"display:none;\">\n",
              "\n",
              "<svg xmlns=\"http://www.w3.org/2000/svg\" height=\"24px\"viewBox=\"0 0 24 24\"\n",
              "     width=\"24px\">\n",
              "    <g>\n",
              "        <path d=\"M19 3H5c-1.1 0-2 .9-2 2v14c0 1.1.9 2 2 2h14c1.1 0 2-.9 2-2V5c0-1.1-.9-2-2-2zM9 17H7v-7h2v7zm4 0h-2V7h2v10zm4 0h-2v-4h2v4z\"/>\n",
              "    </g>\n",
              "</svg>\n",
              "      </button>\n",
              "\n",
              "<style>\n",
              "  .colab-df-quickchart {\n",
              "      --bg-color: #E8F0FE;\n",
              "      --fill-color: #1967D2;\n",
              "      --hover-bg-color: #E2EBFA;\n",
              "      --hover-fill-color: #174EA6;\n",
              "      --disabled-fill-color: #AAA;\n",
              "      --disabled-bg-color: #DDD;\n",
              "  }\n",
              "\n",
              "  [theme=dark] .colab-df-quickchart {\n",
              "      --bg-color: #3B4455;\n",
              "      --fill-color: #D2E3FC;\n",
              "      --hover-bg-color: #434B5C;\n",
              "      --hover-fill-color: #FFFFFF;\n",
              "      --disabled-bg-color: #3B4455;\n",
              "      --disabled-fill-color: #666;\n",
              "  }\n",
              "\n",
              "  .colab-df-quickchart {\n",
              "    background-color: var(--bg-color);\n",
              "    border: none;\n",
              "    border-radius: 50%;\n",
              "    cursor: pointer;\n",
              "    display: none;\n",
              "    fill: var(--fill-color);\n",
              "    height: 32px;\n",
              "    padding: 0;\n",
              "    width: 32px;\n",
              "  }\n",
              "\n",
              "  .colab-df-quickchart:hover {\n",
              "    background-color: var(--hover-bg-color);\n",
              "    box-shadow: 0 1px 2px rgba(60, 64, 67, 0.3), 0 1px 3px 1px rgba(60, 64, 67, 0.15);\n",
              "    fill: var(--button-hover-fill-color);\n",
              "  }\n",
              "\n",
              "  .colab-df-quickchart-complete:disabled,\n",
              "  .colab-df-quickchart-complete:disabled:hover {\n",
              "    background-color: var(--disabled-bg-color);\n",
              "    fill: var(--disabled-fill-color);\n",
              "    box-shadow: none;\n",
              "  }\n",
              "\n",
              "  .colab-df-spinner {\n",
              "    border: 2px solid var(--fill-color);\n",
              "    border-color: transparent;\n",
              "    border-bottom-color: var(--fill-color);\n",
              "    animation:\n",
              "      spin 1s steps(1) infinite;\n",
              "  }\n",
              "\n",
              "  @keyframes spin {\n",
              "    0% {\n",
              "      border-color: transparent;\n",
              "      border-bottom-color: var(--fill-color);\n",
              "      border-left-color: var(--fill-color);\n",
              "    }\n",
              "    20% {\n",
              "      border-color: transparent;\n",
              "      border-left-color: var(--fill-color);\n",
              "      border-top-color: var(--fill-color);\n",
              "    }\n",
              "    30% {\n",
              "      border-color: transparent;\n",
              "      border-left-color: var(--fill-color);\n",
              "      border-top-color: var(--fill-color);\n",
              "      border-right-color: var(--fill-color);\n",
              "    }\n",
              "    40% {\n",
              "      border-color: transparent;\n",
              "      border-right-color: var(--fill-color);\n",
              "      border-top-color: var(--fill-color);\n",
              "    }\n",
              "    60% {\n",
              "      border-color: transparent;\n",
              "      border-right-color: var(--fill-color);\n",
              "    }\n",
              "    80% {\n",
              "      border-color: transparent;\n",
              "      border-right-color: var(--fill-color);\n",
              "      border-bottom-color: var(--fill-color);\n",
              "    }\n",
              "    90% {\n",
              "      border-color: transparent;\n",
              "      border-bottom-color: var(--fill-color);\n",
              "    }\n",
              "  }\n",
              "</style>\n",
              "\n",
              "      <script>\n",
              "        async function quickchart(key) {\n",
              "          const quickchartButtonEl =\n",
              "            document.querySelector('#' + key + ' button');\n",
              "          quickchartButtonEl.disabled = true;  // To prevent multiple clicks.\n",
              "          quickchartButtonEl.classList.add('colab-df-spinner');\n",
              "          try {\n",
              "            const charts = await google.colab.kernel.invokeFunction(\n",
              "                'suggestCharts', [key], {});\n",
              "          } catch (error) {\n",
              "            console.error('Error during call to suggestCharts:', error);\n",
              "          }\n",
              "          quickchartButtonEl.classList.remove('colab-df-spinner');\n",
              "          quickchartButtonEl.classList.add('colab-df-quickchart-complete');\n",
              "        }\n",
              "        (() => {\n",
              "          let quickchartButtonEl =\n",
              "            document.querySelector('#df-2dc0c16c-5377-4790-81b4-86f980361d2a button');\n",
              "          quickchartButtonEl.style.display =\n",
              "            google.colab.kernel.accessAllowed ? 'block' : 'none';\n",
              "        })();\n",
              "      </script>\n",
              "    </div>\n",
              "\n",
              "    </div>\n",
              "  </div>\n"
            ],
            "application/vnd.google.colaboratory.intrinsic+json": {
              "type": "dataframe",
              "variable_name": "data_fr",
              "summary": "{\n  \"name\": \"data_fr\",\n  \"rows\": 6086,\n  \"fields\": [\n    {\n      \"column\": \"userID\",\n      \"properties\": {\n        \"dtype\": \"category\",\n        \"num_unique_values\": 220,\n        \"samples\": [\n          \"app3-4\",\n          \"stu1-7\",\n          \"stu1-6\"\n        ],\n        \"semantic_type\": \"\",\n        \"description\": \"\"\n      }\n    },\n    {\n      \"column\": \"resourceID\",\n      \"properties\": {\n        \"dtype\": \"category\",\n        \"num_unique_values\": 412,\n        \"samples\": [\n          \"stu2-6application2-6\",\n          \"application4-1\",\n          \"stu1-4application1-4\"\n        ],\n        \"semantic_type\": \"\",\n        \"description\": \"\"\n      }\n    },\n    {\n      \"column\": \"operation\",\n      \"properties\": {\n        \"dtype\": \"category\",\n        \"num_unique_values\": 9,\n        \"samples\": [\n          \"write\",\n          \"readScore\",\n          \"readMyScores\"\n        ],\n        \"semantic_type\": \"\",\n        \"description\": \"\"\n      }\n    }\n  ]\n}"
            }
          },
          "metadata": {},
          "execution_count": 4
        }
      ]
    },
    {
      "cell_type": "code",
      "source": [
        "# Split the data (80% train of complete dataset, 10% test, 10%validation of unique instances TO AVOID CHEATING)\n",
        "train_df, test_df = train_test_split(data_fr, shuffle=True ,test_size=0.2, random_state=42)\n",
        "test_df, val_df = train_test_split(test_df, test_size=0.5, random_state=42)\n",
        "\n",
        "print(\"Train: \",len(train_df))\n",
        "print(\"Test: \",len(test_df))\n",
        "print(\"Validation: \",len(val_df))"
      ],
      "metadata": {
        "colab": {
          "base_uri": "https://localhost:8080/"
        },
        "id": "RHJQ4QY6DEy6",
        "outputId": "b52e6367-2e48-4f4c-b8ff-7d58b9c437b7"
      },
      "execution_count": null,
      "outputs": [
        {
          "output_type": "stream",
          "name": "stdout",
          "text": [
            "Train:  4868\n",
            "Test:  609\n",
            "Validation:  609\n"
          ]
        }
      ]
    },
    {
      "cell_type": "markdown",
      "source": [
        "## Pattern Inference"
      ],
      "metadata": {
        "id": "muWaCu20Fk6U"
      }
    },
    {
      "cell_type": "code",
      "source": [
        "# ====== PATTERN INFERENCE FUNCTIONS ======\n",
        "\n",
        "def extract_numeric_info(identifier: str) -> Tuple[str, str, str, str]:\n",
        "    \"\"\"Extracts prefix (category), course, department, and keeps extra text like 'application'.\"\"\"\n",
        "    match = re.match(r\"([a-zA-Z]+)(\\d+)-(\\d+)\", identifier)  # Match format 'typeX-Y'\n",
        "    if match:\n",
        "        return match.group(1).lower(), match.group(2), match.group(3), \"-\"  # Course first, department second\n",
        "    match_single = re.match(r\"([a-zA-Z]+)(\\d+)([a-zA-Z]*)\", identifier)  # Match format 'typeXtext'\n",
        "    if match_single:\n",
        "        return match_single.group(1).lower(), match_single.group(2), \"-\", match_single.group(3).lower()  # Keep extra text\n",
        "    return identifier.lower(), \"-\", \"-\", \"-\"\n"
      ],
      "metadata": {
        "id": "0hgGribfCvM1"
      },
      "execution_count": null,
      "outputs": []
    },
    {
      "cell_type": "code",
      "source": [
        "def infer_user_patterns(user: str) -> Dict[str, str]:\n",
        "    \"\"\"Infers user role, department, and course attributes.\"\"\"\n",
        "    patterns = {}\n",
        "    user_type, course, dept, _ = extract_numeric_info(user)\n",
        "\n",
        "    role_patterns = {\n",
        "        'stu': 'student',\n",
        "        'fac': 'faculty',\n",
        "        'chair': 'chair',\n",
        "        'registrar': 'registrar',\n",
        "        'admissions': 'admissions',\n",
        "        'app': 'applicant'\n",
        "    }\n",
        "\n",
        "    role = next((role_patterns[key] for key in role_patterns if user_type.startswith(key)), \"-\")\n",
        "\n",
        "    if role == '-':\n",
        "      if \"chair\" in user_type:\n",
        "        role = role_patterns[\"chair\"]\n",
        "      elif \"stu\" in user_type:\n",
        "        role = role_patterns[\"stu\"]\n",
        "      elif \"fac\" in user_type:\n",
        "        role = role_patterns[\"fac\"]\n",
        "\n",
        "    patterns['role'] = role\n",
        "    patterns['department'] = dept\n",
        "    patterns['course'] = course\n",
        "\n",
        "    return patterns"
      ],
      "metadata": {
        "id": "-vFXa2hTKdFn"
      },
      "execution_count": null,
      "outputs": []
    },
    {
      "cell_type": "code",
      "source": [
        "def infer_resource_patterns(resource: str) -> Dict[str, str]:\n",
        "    \"\"\"Infers resource type, department, and course attributes.\"\"\"\n",
        "    patterns = {}\n",
        "    resource_type, course, dept, extra = extract_numeric_info(resource)\n",
        "\n",
        "    resource_types = {\n",
        "        'roster': 'roster',\n",
        "        'transcript': 'academic_transcript',\n",
        "        'application': 'student_application',\n",
        "        'gradebook': 'gradebook',\n",
        "        'stu': 'student_application'\n",
        "    }\n",
        "\n",
        "    resource = next((resource_types[key] for key in resource_types if resource_type.startswith(key)), \"-\")\n",
        "\n",
        "    if resource == '-':\n",
        "      if \"trans\" in [resource_type, extra]:\n",
        "        resource = resource_types[\"transcript\"]\n",
        "      elif \"gradebook\" in [resource_type, extra]:\n",
        "        resource = resource_types[\"gradebook\"]\n",
        "      elif \"application\" in [resource_type, extra]:\n",
        "        resource = resource_types[\"application\"]\n",
        "      elif \"roster\" in [resource_type, extra]:\n",
        "        resource = resource_types[\"roster\"]\n",
        "\n",
        "    patterns['type'] = resource\n",
        "    patterns['department'] = dept\n",
        "    patterns['course'] = course\n",
        "\n",
        "    return patterns"
      ],
      "metadata": {
        "id": "qpaOnXzeCzxS"
      },
      "execution_count": null,
      "outputs": []
    },
    {
      "cell_type": "code",
      "source": [
        "def course_taught(user_course: str, resource_course: str) -> str:\n",
        "    return \"crs\" if user_course == resource_course and \"-\" not in user_course else \"NOT_crs\""
      ],
      "metadata": {
        "id": "LIOF-iOjbVkN"
      },
      "execution_count": null,
      "outputs": []
    },
    {
      "cell_type": "code",
      "source": [
        "# ====== ANNOTATION FUNCTION ======\n",
        "\n",
        "def annotate_access_scope(df: pd.DataFrame) -> pd.DataFrame:\n",
        "    \"\"\"Annotates a DataFrame with inferred roles, resource types, and access scope.\"\"\"\n",
        "    user_role_list = []\n",
        "    resource_type_list = []\n",
        "    user_department_list = []\n",
        "    resource_department_list = []\n",
        "    user_course_list = []\n",
        "    resource_course_list = []\n",
        "\n",
        "    for _, row in df.iterrows():\n",
        "        user = row['userID']\n",
        "        resource = row['resourceID']\n",
        "        operation = row['operation']\n",
        "\n",
        "        user_info = infer_user_patterns(user)\n",
        "        res_info = infer_resource_patterns(resource)\n",
        "\n",
        "        user_role_list.append(user_info.get('role', '-'))\n",
        "        resource_type_list.append(res_info.get('type', '-'))\n",
        "        user_department_list.append(user_info.get('department', '-'))\n",
        "        resource_department_list.append(res_info.get('department', '-'))\n",
        "        user_course_list.append(user_info.get('course', '-'))\n",
        "        resource_course_list.append(res_info.get('course', '-'))\n",
        "\n",
        "    df['user_role'] = user_role_list\n",
        "    df['resource_type'] = resource_type_list\n",
        "    df['user_department'] = user_department_list\n",
        "    df['resource_department'] = resource_department_list\n",
        "    df['user_course'] = user_course_list\n",
        "    df['resource_course'] = resource_course_list\n",
        "\n",
        "    df['crs_taught'] = df.apply(lambda row: course_taught(row['user_course'], row['resource_course']), axis=1)\n",
        "\n",
        "    return df"
      ],
      "metadata": {
        "id": "0sdG6lq1CrOP"
      },
      "execution_count": null,
      "outputs": []
    },
    {
      "cell_type": "markdown",
      "source": [
        "### Assign True Labels"
      ],
      "metadata": {
        "id": "5H6Y86w6HpRs"
      }
    },
    {
      "cell_type": "code",
      "source": [
        "def assign_true_label(data_df: pd.DataFrame) -> pd.DataFrame:\n",
        "    \"\"\"Validates access for each row in the dataset.\"\"\"\n",
        "    results = []\n",
        "\n",
        "    for _, row in data_df.iterrows():\n",
        "        access_granted = validate_access(row['user_role'], row['resource_type'], row['operation'], row['crs_taught'])\n",
        "        results.append(access_granted)\n",
        "\n",
        "    data_df['access_granted'] = results  # Append results to dataset\n",
        "    return data_df\n",
        "\n",
        "def validate_access(user: str, resource: str, action: str, crs_taught:str) -> bool:\n",
        "\n",
        "    # Access validation using role-based logic\n",
        "    if user == \"student\" and resource == \"gradebook\" and action in [\"readMyScores\", \"readScore\"]:\n",
        "        return crs_taught == 'crs'\n",
        "\n",
        "    elif user == \"faculty\" and resource == \"gradebook\" and action in [\"readScore\", \"read\",\"assignGrade\", \"addScore\", \"changeScore\"]:\n",
        "        return crs_taught == 'crs'\n",
        "\n",
        "    elif user == \"registrar\" and resource == \"roster\" and action in [\"read\", \"write\"]:\n",
        "        return True  # Registrar can modify all rosters\n",
        "\n",
        "    elif user == \"faculty\" and resource == \"roster\" and action in [\"readScore\", \"read\", \"assignGrade\"]:\n",
        "        return crs_taught == 'crs'\n",
        "\n",
        "    elif user == \"student\" and resource == \"academic_transcript\" and action == \"read\":\n",
        "        return crs_taught == 'crs'\n",
        "\n",
        "    elif user == \"chair\" and resource in [\"academic_transcript\", \"student_application\"] and action in [\"read\", \"readScore\"]:\n",
        "        return crs_taught == 'crs'\n",
        "\n",
        "    elif user == \"registrar\" and resource == \"academic_transcript\" and action == \"read\":\n",
        "        return True  # Registrar can read all transcripts\n",
        "\n",
        "    elif user == \"student\" and resource == \"student_application\" and action == \"checkStatus\":\n",
        "        return crs_taught == 'crs'\n",
        "\n",
        "    elif user == \"applicant\" and resource == \"student_application\" and action == \"checkStatus\":\n",
        "        return crs_taught == 'crs'\n",
        "\n",
        "    elif user == \"admissions\" and resource == \"student_application\" and action in [\"read\", \"setStatus\", \"checkStatus\"]:\n",
        "        return True  # Admissions can read and modify applications\n",
        "\n",
        "    return False # Default denial if no matching rule\n"
      ],
      "metadata": {
        "id": "_ywVOoShgE9y"
      },
      "execution_count": null,
      "outputs": []
    },
    {
      "cell_type": "code",
      "source": [
        "def remove_noise(df: pd.DataFrame)-> pd.DataFrame:\n",
        "  clean_df = df.copy()\n",
        "  clean_df = clean_df[clean_df['access_granted'] != False]\n",
        "  clean_df = clean_df.drop(columns =['access_granted'])\n",
        "  return clean_df"
      ],
      "metadata": {
        "id": "TiAWpguPMu6j"
      },
      "execution_count": null,
      "outputs": []
    },
    {
      "cell_type": "markdown",
      "source": [
        "## Run Code"
      ],
      "metadata": {
        "id": "RUUzs4ukNfKH"
      }
    },
    {
      "cell_type": "markdown",
      "source": [
        "### Run V1"
      ],
      "metadata": {
        "id": "1xZQiUt_k6Dl"
      }
    },
    {
      "cell_type": "code",
      "source": [
        "for run_script, df in [(\"train\", train_df), (\"test\", test_df), (\"val\", val_df)]:\n",
        "  if run_script == 'test':\n",
        "    file_name = 'HYPER_university_test_data.csv'\n",
        "    data = df\n",
        "\n",
        "    # Step 2: Annotate with access patterns\n",
        "    annotated_df = annotate_access_scope(data)\n",
        "    annotated_df = assign_true_label(annotated_df)\n",
        "    print(\"\\nSize with noise:    \",len(annotated_df))\n",
        "\n",
        "  elif run_script == 'train':\n",
        "    file_name = 'HYPER_university_train_data.csv'\n",
        "    data = df\n",
        "\n",
        "    # Step 2: Annotate with access patterns\n",
        "    annotated_df = annotate_access_scope(data)\n",
        "    annotated_df = assign_true_label(annotated_df)\n",
        "\n",
        "    print(\"Size with noise:    \",len(annotated_df))\n",
        "    annotated_df = remove_noise(annotated_df)\n",
        "    print(\"Size without noise: \",len(annotated_df))\n",
        "\n",
        "  elif run_script == 'val':\n",
        "    file_name = 'HYPER_university_val_data.csv'\n",
        "    data = df\n",
        "\n",
        "    # Step 2: Annotate with access patterns\n",
        "    annotated_df = annotate_access_scope(data)\n",
        "    annotated_df = assign_true_label(annotated_df)\n",
        "    print(\"\\nSize with noise:    \",len(annotated_df))\n",
        "\n",
        "  # Step 3: Save to file\n",
        "  parent_path = os.path.dirname(folder_paths[0])\n",
        "  output_file = os.path.join(parent_path, file_name)\n",
        "  annotated_df.to_csv(output_file, index=False)\n",
        "  print(f\"File Saved\")"
      ],
      "metadata": {
        "colab": {
          "base_uri": "https://localhost:8080/"
        },
        "id": "0KRdgwj7m-qX",
        "outputId": "4f28328a-1a9d-4092-bb10-5b28e1728207"
      },
      "execution_count": null,
      "outputs": [
        {
          "output_type": "stream",
          "name": "stdout",
          "text": [
            "Size with noise:     4868\n",
            "Size without noise:  4419\n",
            "File Saved\n",
            "\n",
            "Size with noise:     609\n",
            "File Saved\n",
            "\n",
            "Size with noise:     609\n",
            "File Saved\n"
          ]
        }
      ]
    }
  ]
}